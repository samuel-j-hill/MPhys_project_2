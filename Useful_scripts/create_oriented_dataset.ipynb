{
  "cells": [
    {
      "cell_type": "code",
      "execution_count": 1,
      "metadata": {
        "id": "6Yb0soof8LAW"
      },
      "outputs": [],
      "source": [
        "import cv2\n",
        "import numpy as np\n",
        "import matplotlib.pyplot as plt\n",
        "import matplotlib\n",
        "from PIL import Image"
      ]
    },
    {
      "cell_type": "code",
      "execution_count": 15,
      "metadata": {
        "colab": {
          "base_uri": "https://localhost:8080/",
          "height": 499
        },
        "id": "zjjxHaJE_mDw",
        "outputId": "d45c2e8e-2d37-401c-f8ea-af958ce5b044"
      },
      "outputs": [],
      "source": [
        "def plot_example_Hough_line(data, image_number):\n",
        "    \n",
        "    plt.imsave(\"img.png\", data[image_number])\n",
        "    image = cv2.imread(\"img.png\")\n",
        "    edges = cv2.Canny(image, 50, 150)\n",
        "    lines = cv2.HoughLines(edges, 1, np.pi/180, threshold=1)\n",
        "\n",
        "    rho, theta = lines[0][0]\n",
        "    a = np.cos(theta)\n",
        "    b = np.sin(theta)\n",
        "    x0 = a * rho\n",
        "    y0 = b * rho\n",
        "    x1 = int(x0 + 1000 * (-b))\n",
        "    y1 = int(y0 + 1000 * (a))\n",
        "    x2 = int(x0 - 1000 * (-b))\n",
        "    y2 = int(y0 - 1000 * (a))\n",
        "\n",
        "    cv2.line(image, (x1, y1), (x2, y2), (0, 0, 255), 1) \n",
        "\n",
        "    plt.figure(figsize=(8, 6))\n",
        "    plt.imshow(cv2.cvtColor(image, cv2.COLOR_BGR2RGB))\n",
        "    plt.show()"
      ]
    },
    {
      "cell_type": "markdown",
      "metadata": {},
      "source": [
        "Define functions for creating oriented dataset"
      ]
    },
    {
      "cell_type": "code",
      "execution_count": null,
      "metadata": {},
      "outputs": [],
      "source": [
        "def rotate_array(array, angle):\n",
        "\n",
        "    img = Image.fromarray(array)\n",
        "    rotated_img = img.rotate(angle)\n",
        "    rotated_array = np.asarray(rotated_img)\n",
        "\n",
        "    return rotated_array"
      ]
    },
    {
      "cell_type": "code",
      "execution_count": 7,
      "metadata": {
        "id": "d0lnZbqCE7Fz"
      },
      "outputs": [],
      "source": [
        "def create_aligned_dataset(data):\n",
        "\n",
        "    oriented_data = np.empty(data.shape)\n",
        "    for i in range(len(data)):\n",
        "        plt.imsave(\"img.png\", data[i])\n",
        "        image = cv2.imread(\"img.png\")\n",
        "        edges = cv2.Canny(image, 50, 150)\n",
        "        lines = cv2.HoughLines(edges, 1, np.pi/180, threshold=1)\n",
        "    \n",
        "        if lines is not None:\n",
        "            rho, theta = lines[0][0]\n",
        "            theta_degrees = theta * 180/np.pi\n",
        "            if theta_degrees > 90:\n",
        "                oriented_data[i] = rotate_array(data[i], theta_degrees - 180)\n",
        "        \n",
        "            else:\n",
        "                oriented_data[i] = rotate_array(data[i], theta_degrees)\n",
        "        \n",
        "        else: \n",
        "            oriented_data[i] = data[i]\n",
        "\n",
        "    return oriented_data"
      ]
    },
    {
      "cell_type": "markdown",
      "metadata": {},
      "source": [
        "Define some functions to clean up the oriented dataset, e.g. looking for images where the track has been rotated out of frame and removing said images"
      ]
    },
    {
      "cell_type": "code",
      "execution_count": 8,
      "metadata": {
        "id": "8tFoeMuPG_nz"
      },
      "outputs": [],
      "source": [
        "def plot_example_images(data, n_rows, n_cols):\n",
        "\n",
        "  fig, axes = plt.subplots(n_rows, n_cols, figsize=(30,6))\n",
        "  cmap=matplotlib.colormaps['viridis']\n",
        "  im=matplotlib.cm.ScalarMappable()\n",
        "\n",
        "  for i in range(n_rows * n_cols):\n",
        "          axes.flat[i].imshow(data[i])\n",
        "          axes.flat[i].set_axis_off()\n",
        "\n",
        "  fig.suptitle(\"Example images\")\n",
        "  fig.colorbar(im, ax=axes.ravel().tolist())\n",
        "  plt.show()"
      ]
    },
    {
      "cell_type": "code",
      "execution_count": 9,
      "metadata": {
        "id": "XeG83K8Ej0KT"
      },
      "outputs": [],
      "source": [
        "def mean_pixel_intensity_histogram(data):\n",
        "\n",
        "    means = []\n",
        "    for array in data:\n",
        "        means.append(np.mean(array))\n",
        "\n",
        "    plt.hist(means, bins=300)\n",
        "    plt.xlabel(\"Mean pixel intensity\")\n",
        "    plt.ylabel(\"Frequency\")\n",
        "    plt.title(\"Distribution of mean pixel intensities\")\n",
        "    plt.show()\n",
        "\n",
        "    return None"
      ]
    },
    {
      "cell_type": "code",
      "execution_count": 12,
      "metadata": {
        "id": "1LMeeLiVpCk9"
      },
      "outputs": [],
      "source": [
        "def filter_dataset(data, names, cutoff):\n",
        "\n",
        "    mean_array = np.mean(data, axis=(1, 2))\n",
        "    mask = mean_array > cutoff\n",
        "    filtered_array = data[mask]\n",
        "    filtered_names = names[mask]\n",
        "\n",
        "    return filtered_array, filtered_names\n"
      ]
    }
  ],
  "metadata": {
    "colab": {
      "provenance": []
    },
    "kernelspec": {
      "display_name": "Python 3",
      "name": "python3"
    },
    "language_info": {
      "codemirror_mode": {
        "name": "ipython",
        "version": 3
      },
      "file_extension": ".py",
      "mimetype": "text/x-python",
      "name": "python",
      "nbconvert_exporter": "python",
      "pygments_lexer": "ipython3",
      "version": "3.12.3"
    }
  },
  "nbformat": 4,
  "nbformat_minor": 0
}
